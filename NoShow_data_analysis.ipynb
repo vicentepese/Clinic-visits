{
 "cells": [
  {
   "cell_type": "code",
   "execution_count": 1,
   "metadata": {},
   "outputs": [],
   "source": [
    "# Import libraries of interest\n",
    "import numpy as np\n",
    "import matplotlib.pyplot as plt \n",
    "import pandas as pd\n",
    "import json\n",
    "from sklearn.ensemble import RandomForestClassifier, BaggingClassifier, AdaBoostClassifier, GradientBoostingClassifier\n",
    "from sklearn.ensemble import RandomForestRegressor, IsolationForest\n",
    "from sklearn.model_selection import train_test_split\n",
    "from sklearn.metrics import mean_squared_error, mean_absolute_error, accuracy_score, precision_score\n",
    "from sklearn.metrics import roc_curve, auc\n",
    "from sklearn.decomposition import PCA\n",
    "from sklearn.feature_extraction import FeatureHasher\n",
    "from collections import Counter\n",
    "import category_encoders as ce\n",
    "from statsmodels.tools import categorical"
   ]
  },
  {
   "cell_type": "markdown",
   "metadata": {},
   "source": [
    "# Introduction \n",
    "\n",
    "## The Problem \n",
    "One of the many challenges in hospital clinical management is patients not showing up to their appointments. This is a loss of time and resources for hospitals who have to bear the cost of individuals' failure to attend their doctor's meeting. A potential way to prevent this issue from happening is to develop a system that predicts whether a patient will show up to the appointment or not. This way, hospitals can be prepared to reallocate resources when a patient is prone to miss their appointments. \n",
    "\n",
    "# Data Engineering\n",
    "The data is structured in a way such that each row is an observation numbered by the variable _AppointmentID_ with a total of 110.527 medical appointments. Each observation contains the unique patient identifier called _PatientID_ (a total of 62.229 patients), the day the appointment was scheduled, the day it took place, and some demographic and clinical data including: gender, age, hypertencion diagnosis, or diabetes diagnosis. \n",
    "\n",
    "### Preliminary data assessment\n",
    "The first step before diving into data analyisis is to assess the data provided. We will identify missing data points and outliers.\n"
   ]
  },
  {
   "cell_type": "code",
   "execution_count": 2,
   "metadata": {},
   "outputs": [
    {
     "data": {
      "text/html": [
       "<div>\n",
       "<style scoped>\n",
       "    .dataframe tbody tr th:only-of-type {\n",
       "        vertical-align: middle;\n",
       "    }\n",
       "\n",
       "    .dataframe tbody tr th {\n",
       "        vertical-align: top;\n",
       "    }\n",
       "\n",
       "    .dataframe thead th {\n",
       "        text-align: right;\n",
       "    }\n",
       "</style>\n",
       "<table border=\"1\" class=\"dataframe\">\n",
       "  <thead>\n",
       "    <tr style=\"text-align: right;\">\n",
       "      <th></th>\n",
       "      <th>PatientId</th>\n",
       "      <th>AppointmentID</th>\n",
       "      <th>Gender</th>\n",
       "      <th>ScheduledDay</th>\n",
       "      <th>AppointmentDay</th>\n",
       "      <th>Age</th>\n",
       "      <th>Neighbourhood</th>\n",
       "      <th>Scholarship</th>\n",
       "      <th>Hipertension</th>\n",
       "      <th>Diabetes</th>\n",
       "      <th>Alcoholism</th>\n",
       "      <th>Handcap</th>\n",
       "      <th>SMS_received</th>\n",
       "      <th>No-show</th>\n",
       "    </tr>\n",
       "  </thead>\n",
       "  <tbody>\n",
       "    <tr>\n",
       "      <th>0</th>\n",
       "      <td>2.987250e+13</td>\n",
       "      <td>5642903</td>\n",
       "      <td>F</td>\n",
       "      <td>2016-04-29T18:38:08Z</td>\n",
       "      <td>2016-04-29T00:00:00Z</td>\n",
       "      <td>62</td>\n",
       "      <td>JARDIM DA PENHA</td>\n",
       "      <td>0</td>\n",
       "      <td>1</td>\n",
       "      <td>0</td>\n",
       "      <td>0</td>\n",
       "      <td>0</td>\n",
       "      <td>0</td>\n",
       "      <td>No</td>\n",
       "    </tr>\n",
       "    <tr>\n",
       "      <th>1</th>\n",
       "      <td>5.589978e+14</td>\n",
       "      <td>5642503</td>\n",
       "      <td>M</td>\n",
       "      <td>2016-04-29T16:08:27Z</td>\n",
       "      <td>2016-04-29T00:00:00Z</td>\n",
       "      <td>56</td>\n",
       "      <td>JARDIM DA PENHA</td>\n",
       "      <td>0</td>\n",
       "      <td>0</td>\n",
       "      <td>0</td>\n",
       "      <td>0</td>\n",
       "      <td>0</td>\n",
       "      <td>0</td>\n",
       "      <td>No</td>\n",
       "    </tr>\n",
       "    <tr>\n",
       "      <th>2</th>\n",
       "      <td>4.262962e+12</td>\n",
       "      <td>5642549</td>\n",
       "      <td>F</td>\n",
       "      <td>2016-04-29T16:19:04Z</td>\n",
       "      <td>2016-04-29T00:00:00Z</td>\n",
       "      <td>62</td>\n",
       "      <td>MATA DA PRAIA</td>\n",
       "      <td>0</td>\n",
       "      <td>0</td>\n",
       "      <td>0</td>\n",
       "      <td>0</td>\n",
       "      <td>0</td>\n",
       "      <td>0</td>\n",
       "      <td>No</td>\n",
       "    </tr>\n",
       "    <tr>\n",
       "      <th>3</th>\n",
       "      <td>8.679512e+11</td>\n",
       "      <td>5642828</td>\n",
       "      <td>F</td>\n",
       "      <td>2016-04-29T17:29:31Z</td>\n",
       "      <td>2016-04-29T00:00:00Z</td>\n",
       "      <td>8</td>\n",
       "      <td>PONTAL DE CAMBURI</td>\n",
       "      <td>0</td>\n",
       "      <td>0</td>\n",
       "      <td>0</td>\n",
       "      <td>0</td>\n",
       "      <td>0</td>\n",
       "      <td>0</td>\n",
       "      <td>No</td>\n",
       "    </tr>\n",
       "    <tr>\n",
       "      <th>4</th>\n",
       "      <td>8.841186e+12</td>\n",
       "      <td>5642494</td>\n",
       "      <td>F</td>\n",
       "      <td>2016-04-29T16:07:23Z</td>\n",
       "      <td>2016-04-29T00:00:00Z</td>\n",
       "      <td>56</td>\n",
       "      <td>JARDIM DA PENHA</td>\n",
       "      <td>0</td>\n",
       "      <td>1</td>\n",
       "      <td>1</td>\n",
       "      <td>0</td>\n",
       "      <td>0</td>\n",
       "      <td>0</td>\n",
       "      <td>No</td>\n",
       "    </tr>\n",
       "  </tbody>\n",
       "</table>\n",
       "</div>"
      ],
      "text/plain": [
       "      PatientId  AppointmentID Gender          ScheduledDay  \\\n",
       "0  2.987250e+13        5642903      F  2016-04-29T18:38:08Z   \n",
       "1  5.589978e+14        5642503      M  2016-04-29T16:08:27Z   \n",
       "2  4.262962e+12        5642549      F  2016-04-29T16:19:04Z   \n",
       "3  8.679512e+11        5642828      F  2016-04-29T17:29:31Z   \n",
       "4  8.841186e+12        5642494      F  2016-04-29T16:07:23Z   \n",
       "\n",
       "         AppointmentDay  Age      Neighbourhood  Scholarship  Hipertension  \\\n",
       "0  2016-04-29T00:00:00Z   62    JARDIM DA PENHA            0             1   \n",
       "1  2016-04-29T00:00:00Z   56    JARDIM DA PENHA            0             0   \n",
       "2  2016-04-29T00:00:00Z   62      MATA DA PRAIA            0             0   \n",
       "3  2016-04-29T00:00:00Z    8  PONTAL DE CAMBURI            0             0   \n",
       "4  2016-04-29T00:00:00Z   56    JARDIM DA PENHA            0             1   \n",
       "\n",
       "   Diabetes  Alcoholism  Handcap  SMS_received No-show  \n",
       "0         0           0        0             0      No  \n",
       "1         0           0        0             0      No  \n",
       "2         0           0        0             0      No  \n",
       "3         0           0        0             0      No  \n",
       "4         1           0        0             0      No  "
      ]
     },
     "execution_count": 2,
     "metadata": {},
     "output_type": "execute_result"
    }
   ],
   "source": [
    "# Import settings\n",
    "with open(\"settings.json\", \"r\") as inFile:\n",
    "    settings = json.load(inFile)\n",
    "    \n",
    "# Import data\n",
    "data = pd.read_csv(settings['file']['data'])    \n",
    "\n",
    "# Insight of the data \n",
    "data.head()\n"
   ]
  },
  {
   "cell_type": "code",
   "execution_count": 3,
   "metadata": {},
   "outputs": [
    {
     "data": {
      "text/plain": [
       "PatientId         float64\n",
       "AppointmentID       int64\n",
       "Gender             object\n",
       "ScheduledDay       object\n",
       "AppointmentDay     object\n",
       "Age                 int64\n",
       "Neighbourhood      object\n",
       "Scholarship         int64\n",
       "Hipertension        int64\n",
       "Diabetes            int64\n",
       "Alcoholism          int64\n",
       "Handcap             int64\n",
       "SMS_received        int64\n",
       "No-show            object\n",
       "dtype: object"
      ]
     },
     "execution_count": 3,
     "metadata": {},
     "output_type": "execute_result"
    }
   ],
   "source": [
    "# Data info\n",
    "data.dtypes"
   ]
  },
  {
   "cell_type": "markdown",
   "metadata": {},
   "source": [
    "It is unclear what the target or dependent variable _No-Show_ means, and whether a \"No\" value means that the patient showed or did not show up to the appointment. The proportion of \"No\" values in _No-Show_ is of about 80% - we will assume that the majority actually showed up in the appointment, and that therefore a \"No\" means that they they did not fail to attend it. "
   ]
  },
  {
   "cell_type": "code",
   "execution_count": 4,
   "metadata": {},
   "outputs": [
    {
     "data": {
      "text/plain": [
       "[{'No': 79.8067440534892}, {'Yes': 20.193255946510806}]"
      ]
     },
     "execution_count": 4,
     "metadata": {},
     "output_type": "execute_result"
    }
   ],
   "source": [
    "# Percentage of values in No-Show\n",
    "counts_Show = Counter(data['No-show']) \n",
    "[{key: (counts_Show[key] / len(data))*100} for key in counts_Show]\n"
   ]
  },
  {
   "cell_type": "markdown",
   "metadata": {},
   "source": [
    "We proceed to:\n",
    "- Change the data columns' names and correcto typos\n",
    "- Convert categorical variables to string format - this will be used for the classification algorithm."
   ]
  },
  {
   "cell_type": "code",
   "execution_count": 5,
   "metadata": {},
   "outputs": [
    {
     "data": {
      "text/html": [
       "<div>\n",
       "<style scoped>\n",
       "    .dataframe tbody tr th:only-of-type {\n",
       "        vertical-align: middle;\n",
       "    }\n",
       "\n",
       "    .dataframe tbody tr th {\n",
       "        vertical-align: top;\n",
       "    }\n",
       "\n",
       "    .dataframe thead th {\n",
       "        text-align: right;\n",
       "    }\n",
       "</style>\n",
       "<table border=\"1\" class=\"dataframe\">\n",
       "  <thead>\n",
       "    <tr style=\"text-align: right;\">\n",
       "      <th></th>\n",
       "      <th>PatientID</th>\n",
       "      <th>AppointmentID</th>\n",
       "      <th>Gender</th>\n",
       "      <th>ScheduledDay</th>\n",
       "      <th>AppointmentDay</th>\n",
       "      <th>Age</th>\n",
       "      <th>Neighbourhood</th>\n",
       "      <th>Scholarship</th>\n",
       "      <th>Hypertension</th>\n",
       "      <th>Diabetes</th>\n",
       "      <th>Alcoholism</th>\n",
       "      <th>Handicap</th>\n",
       "      <th>SMS_received</th>\n",
       "      <th>Show</th>\n",
       "    </tr>\n",
       "  </thead>\n",
       "  <tbody>\n",
       "    <tr>\n",
       "      <th>0</th>\n",
       "      <td>29872499824296</td>\n",
       "      <td>5642903</td>\n",
       "      <td>0</td>\n",
       "      <td>2016-04-29 18:38:08</td>\n",
       "      <td>2016-04-29</td>\n",
       "      <td>62</td>\n",
       "      <td>JARDIM DA PENHA</td>\n",
       "      <td>0</td>\n",
       "      <td>1</td>\n",
       "      <td>0</td>\n",
       "      <td>0</td>\n",
       "      <td>0</td>\n",
       "      <td>0</td>\n",
       "      <td>1</td>\n",
       "    </tr>\n",
       "    <tr>\n",
       "      <th>1</th>\n",
       "      <td>558997776694438</td>\n",
       "      <td>5642503</td>\n",
       "      <td>1</td>\n",
       "      <td>2016-04-29 16:08:27</td>\n",
       "      <td>2016-04-29</td>\n",
       "      <td>56</td>\n",
       "      <td>JARDIM DA PENHA</td>\n",
       "      <td>0</td>\n",
       "      <td>0</td>\n",
       "      <td>0</td>\n",
       "      <td>0</td>\n",
       "      <td>0</td>\n",
       "      <td>0</td>\n",
       "      <td>1</td>\n",
       "    </tr>\n",
       "    <tr>\n",
       "      <th>2</th>\n",
       "      <td>4262962299951</td>\n",
       "      <td>5642549</td>\n",
       "      <td>0</td>\n",
       "      <td>2016-04-29 16:19:04</td>\n",
       "      <td>2016-04-29</td>\n",
       "      <td>62</td>\n",
       "      <td>MATA DA PRAIA</td>\n",
       "      <td>0</td>\n",
       "      <td>0</td>\n",
       "      <td>0</td>\n",
       "      <td>0</td>\n",
       "      <td>0</td>\n",
       "      <td>0</td>\n",
       "      <td>1</td>\n",
       "    </tr>\n",
       "    <tr>\n",
       "      <th>3</th>\n",
       "      <td>867951213174</td>\n",
       "      <td>5642828</td>\n",
       "      <td>0</td>\n",
       "      <td>2016-04-29 17:29:31</td>\n",
       "      <td>2016-04-29</td>\n",
       "      <td>8</td>\n",
       "      <td>PONTAL DE CAMBURI</td>\n",
       "      <td>0</td>\n",
       "      <td>0</td>\n",
       "      <td>0</td>\n",
       "      <td>0</td>\n",
       "      <td>0</td>\n",
       "      <td>0</td>\n",
       "      <td>1</td>\n",
       "    </tr>\n",
       "    <tr>\n",
       "      <th>4</th>\n",
       "      <td>8841186448183</td>\n",
       "      <td>5642494</td>\n",
       "      <td>0</td>\n",
       "      <td>2016-04-29 16:07:23</td>\n",
       "      <td>2016-04-29</td>\n",
       "      <td>56</td>\n",
       "      <td>JARDIM DA PENHA</td>\n",
       "      <td>0</td>\n",
       "      <td>1</td>\n",
       "      <td>1</td>\n",
       "      <td>0</td>\n",
       "      <td>0</td>\n",
       "      <td>0</td>\n",
       "      <td>1</td>\n",
       "    </tr>\n",
       "  </tbody>\n",
       "</table>\n",
       "</div>"
      ],
      "text/plain": [
       "         PatientID AppointmentID  Gender        ScheduledDay AppointmentDay  \\\n",
       "0   29872499824296       5642903       0 2016-04-29 18:38:08     2016-04-29   \n",
       "1  558997776694438       5642503       1 2016-04-29 16:08:27     2016-04-29   \n",
       "2    4262962299951       5642549       0 2016-04-29 16:19:04     2016-04-29   \n",
       "3     867951213174       5642828       0 2016-04-29 17:29:31     2016-04-29   \n",
       "4    8841186448183       5642494       0 2016-04-29 16:07:23     2016-04-29   \n",
       "\n",
       "   Age      Neighbourhood  Scholarship  Hypertension  Diabetes  Alcoholism  \\\n",
       "0   62    JARDIM DA PENHA            0             1         0           0   \n",
       "1   56    JARDIM DA PENHA            0             0         0           0   \n",
       "2   62      MATA DA PRAIA            0             0         0           0   \n",
       "3    8  PONTAL DE CAMBURI            0             0         0           0   \n",
       "4   56    JARDIM DA PENHA            0             1         1           0   \n",
       "\n",
       "   Handicap  SMS_received  Show  \n",
       "0         0             0     1  \n",
       "1         0             0     1  \n",
       "2         0             0     1  \n",
       "3         0             0     1  \n",
       "4         0             0     1  "
      ]
     },
     "execution_count": 5,
     "metadata": {},
     "output_type": "execute_result"
    }
   ],
   "source": [
    "# Change column names in dataframe \n",
    "data.columns = ['PatientID', 'AppointmentID', 'Gender', 'ScheduledDay', \n",
    "                'AppointmentDay', 'Age', 'Neighbourhood', 'Scholarship',\n",
    "                'Hypertension', 'Diabetes', 'Alcoholism', 'Handicap', 'SMS_received', 'Show']\n",
    "\n",
    "# Change format: object to string variable, binary to int, date to dates\n",
    "data.PatientID = data.PatientID.astype(int); data.PatientID.astype(str)\n",
    "data.AppointmentID = data.AppointmentID.astype('str')\n",
    "data.Show = data['Show'] == \"No\"; data.Show = data.Show.apply(int)\n",
    "data.ScheduledDay = data.ScheduledDay.astype('datetime64[ns]')\n",
    "data.AppointmentDay = data.AppointmentDay.astype('datetime64[ns]')\n",
    "data.Gender = data.Gender == \"M\"; data.Gender = data.Gender.astype(int)\n",
    "\n",
    "# Print\n",
    "data.head()"
   ]
  },
  {
   "cell_type": "markdown",
   "metadata": {},
   "source": [
    "Note: the variable _No-show_ has been named _Show_ where a value of 1 means that the patient attended the appointment, and that the hour of _AppointmentDay_ has been removed since all were equal."
   ]
  },
  {
   "cell_type": "code",
   "execution_count": 6,
   "metadata": {},
   "outputs": [
    {
     "name": "stdout",
     "output_type": "stream",
     "text": [
      "<class 'pandas.core.frame.DataFrame'>\n",
      "RangeIndex: 110527 entries, 0 to 110526\n",
      "Data columns (total 14 columns):\n",
      "PatientID         110527 non-null int64\n",
      "AppointmentID     110527 non-null object\n",
      "Gender            110527 non-null int64\n",
      "ScheduledDay      110527 non-null datetime64[ns]\n",
      "AppointmentDay    110527 non-null datetime64[ns]\n",
      "Age               110527 non-null int64\n",
      "Neighbourhood     110527 non-null object\n",
      "Scholarship       110527 non-null int64\n",
      "Hypertension      110527 non-null int64\n",
      "Diabetes          110527 non-null int64\n",
      "Alcoholism        110527 non-null int64\n",
      "Handicap          110527 non-null int64\n",
      "SMS_received      110527 non-null int64\n",
      "Show              110527 non-null int64\n",
      "dtypes: datetime64[ns](2), int64(10), object(2)\n",
      "memory usage: 11.8+ MB\n"
     ]
    }
   ],
   "source": [
    "# Check if NAs\n",
    "data.info()"
   ]
  },
  {
   "cell_type": "markdown",
   "metadata": {},
   "source": [
    "No missing values were found in any of the variables. We proceed to check that the number of patients provided in the description matches the patients in the dateset."
   ]
  },
  {
   "cell_type": "code",
   "execution_count": 7,
   "metadata": {},
   "outputs": [
    {
     "data": {
      "text/plain": [
       "62299"
      ]
     },
     "execution_count": 7,
     "metadata": {},
     "output_type": "execute_result"
    }
   ],
   "source": [
    "# Check if patients have multiple appointments\n",
    "len(np.unique(data.PatientID))"
   ]
  },
  {
   "cell_type": "markdown",
   "metadata": {},
   "source": [
    "Following, we will ensure that the _AppointmentID_ variable is a unique identifier for each observation."
   ]
  },
  {
   "cell_type": "code",
   "execution_count": 8,
   "metadata": {},
   "outputs": [
    {
     "data": {
      "text/plain": [
       "True"
      ]
     },
     "execution_count": 8,
     "metadata": {},
     "output_type": "execute_result"
    }
   ],
   "source": [
    "# Check that there are no appointmentID duplicates\n",
    "len(np.unique(data.AppointmentID)) == len(data)"
   ]
  },
  {
   "cell_type": "markdown",
   "metadata": {},
   "source": [
    "We found no duplicates in the _ApointmentID_. We proceed to compute the range of variables of importance."
   ]
  },
  {
   "cell_type": "code",
   "execution_count": 9,
   "metadata": {},
   "outputs": [
    {
     "name": "stdout",
     "output_type": "stream",
     "text": [
      "Range of AppointmentDay: 2016-04-29 00:00:00 to 2016-06-08 00:00:00\n",
      "Range of ScheduledDay: 2015-11-10 07:13:56 to 2016-06-08 20:07:23\n"
     ]
    }
   ],
   "source": [
    "# Check the range of dates in AppointmentDay and ScheduledDay\n",
    "print(\"Range of AppointmentDay: \" + str(min(data.AppointmentDay)) + \" to \" +  str(max(data.AppointmentDay))) \n",
    "print(\"Range of ScheduledDay: \" + str(min(data.ScheduledDay)) + \" to \" +  str(max(data.ScheduledDay))) "
   ]
  },
  {
   "cell_type": "markdown",
   "metadata": {},
   "source": [
    "The format of the dates are: YY-MM-DD HH:MM:SS, and it seems that _AppointmentDay_ means the day the appointment takes place, and _ScheduledDay_ the day the appointment was made since the first chronological _ScheduledDay_ took place months before the first _AppointmentDay_. "
   ]
  },
  {
   "cell_type": "code",
   "execution_count": 10,
   "metadata": {},
   "outputs": [
    {
     "name": "stdout",
     "output_type": "stream",
     "text": [
      "[-1, 0, 1, 2, 3, 4, 5, 6, 7, 8, 9, 10, 11, 12, 13, 14, 15, 16, 17, 18, 19, 20, 21, 22, 23, 24, 25, 26, 27, 28, 29, 30, 31, 32, 33, 34, 35, 36, 37, 38, 39, 40, 41, 42, 43, 44, 45, 46, 47, 48, 49, 50, 51, 52, 53, 54, 55, 56, 57, 58, 59, 60, 61, 62, 63, 64, 65, 66, 67, 68, 69, 70, 71, 72, 73, 74, 75, 76, 77, 78, 79, 80, 81, 82, 83, 84, 85, 86, 87, 88, 89, 90, 91, 92, 93, 94, 95, 96, 97, 98, 99, 100, 102, 115]\n"
     ]
    }
   ],
   "source": [
    "# Check age range \n",
    "print(sorted(np.unique(data.Age)))"
   ]
  },
  {
   "cell_type": "markdown",
   "metadata": {},
   "source": [
    "Two concerns arise from the age range of the population:\n",
    "- Negative age: these values are clearly impossible and must be removed from the dataset. \n",
    "- Althought possible, it is highly unlikely to find ages over 100 years. Additionally, those subjects will most likely rely on their families to attend the doctors, and therefore age does not represent a variable of interest. \n",
    "\n",
    "It is assumed that values of 0 belong to newborns before the age of 1. Further analysis is needed, as it follows."
   ]
  },
  {
   "cell_type": "code",
   "execution_count": 11,
   "metadata": {},
   "outputs": [
    {
     "data": {
      "image/png": "[encoded data removed]",
      "text/plain": [
       "<Figure size 432x288 with 2 Axes>"
      ]
     },
     "metadata": {
      "needs_background": "light"
     },
     "output_type": "display_data"
    }
   ],
   "source": [
    "%matplotlib inline\n",
    "fig, ax = plt.subplots(1,2)\n",
    "ax[0].set_title('Histogram distribution of Age')\n",
    "ax[0].set_xlabel('Age')\n",
    "ax[0].set_ylabel('Count')\n",
    "ax[0].hist(data.Age, bins = 23)\n",
    "ax[1].set_title('Density histogram of Age')\n",
    "ax[1].set_xlabel('Age')\n",
    "ax[1].set_ylabel('Density')\n",
    "ax[1].hist(data.Age, bins = 23, density = True)\n",
    "fig.tight_layout()\n",
    "plt.show()"
   ]
  },
  {
   "cell_type": "markdown",
   "metadata": {},
   "source": [
    "Clearly, very few observations belong to ages older than 95. For such reason, they will also be removed."
   ]
  },
  {
   "cell_type": "code",
   "execution_count": 12,
   "metadata": {},
   "outputs": [
    {
     "name": "stdout",
     "output_type": "stream",
     "text": [
      "Number of observations: 110456\n"
     ]
    }
   ],
   "source": [
    "data = data[data.Age.lt(95) & data.Age.ge(0)]\n",
    "print(\"Number of observations: \" + str(len(data)))"
   ]
  },
  {
   "cell_type": "markdown",
   "metadata": {},
   "source": [
    "### Variable computation\n",
    "Some potential variables that could be of interest are not explicitly included in data. The following variables will be included as part of the analysis:\n",
    "- Time of the _ScheduledDay_\n",
    "- Weekday the appointment takes place based on _AppointmentDay_\n",
    "- Difference in days between the day the appointment was made and the day the appointment takes place as the difference between _ScheduledDay_ and _AppointmentDay_, named _WaitingTime_\n"
   ]
  },
  {
   "cell_type": "code",
   "execution_count": 13,
   "metadata": {},
   "outputs": [
    {
     "data": {
      "text/html": [
       "<div>\n",
       "<style scoped>\n",
       "    .dataframe tbody tr th:only-of-type {\n",
       "        vertical-align: middle;\n",
       "    }\n",
       "\n",
       "    .dataframe tbody tr th {\n",
       "        vertical-align: top;\n",
       "    }\n",
       "\n",
       "    .dataframe thead th {\n",
       "        text-align: right;\n",
       "    }\n",
       "</style>\n",
       "<table border=\"1\" class=\"dataframe\">\n",
       "  <thead>\n",
       "    <tr style=\"text-align: right;\">\n",
       "      <th></th>\n",
       "      <th>PatientID</th>\n",
       "      <th>AppointmentID</th>\n",
       "      <th>Gender</th>\n",
       "      <th>ScheduledDay</th>\n",
       "      <th>AppointmentDay</th>\n",
       "      <th>Age</th>\n",
       "      <th>Neighbourhood</th>\n",
       "      <th>Scholarship</th>\n",
       "      <th>Hypertension</th>\n",
       "      <th>Diabetes</th>\n",
       "      <th>Alcoholism</th>\n",
       "      <th>Handicap</th>\n",
       "      <th>SMS_received</th>\n",
       "      <th>Show</th>\n",
       "      <th>TimeScheduled</th>\n",
       "      <th>WeekdayAppointment</th>\n",
       "      <th>WaitingTime</th>\n",
       "    </tr>\n",
       "  </thead>\n",
       "  <tbody>\n",
       "    <tr>\n",
       "      <th>0</th>\n",
       "      <td>29872499824296</td>\n",
       "      <td>5642903</td>\n",
       "      <td>0</td>\n",
       "      <td>2016-04-29</td>\n",
       "      <td>2016-04-29</td>\n",
       "      <td>62</td>\n",
       "      <td>JARDIM DA PENHA</td>\n",
       "      <td>0</td>\n",
       "      <td>1</td>\n",
       "      <td>0</td>\n",
       "      <td>0</td>\n",
       "      <td>0</td>\n",
       "      <td>0</td>\n",
       "      <td>1</td>\n",
       "      <td>18</td>\n",
       "      <td>Friday</td>\n",
       "      <td>0</td>\n",
       "    </tr>\n",
       "    <tr>\n",
       "      <th>1</th>\n",
       "      <td>558997776694438</td>\n",
       "      <td>5642503</td>\n",
       "      <td>1</td>\n",
       "      <td>2016-04-29</td>\n",
       "      <td>2016-04-29</td>\n",
       "      <td>56</td>\n",
       "      <td>JARDIM DA PENHA</td>\n",
       "      <td>0</td>\n",
       "      <td>0</td>\n",
       "      <td>0</td>\n",
       "      <td>0</td>\n",
       "      <td>0</td>\n",
       "      <td>0</td>\n",
       "      <td>1</td>\n",
       "      <td>16</td>\n",
       "      <td>Friday</td>\n",
       "      <td>0</td>\n",
       "    </tr>\n",
       "    <tr>\n",
       "      <th>2</th>\n",
       "      <td>4262962299951</td>\n",
       "      <td>5642549</td>\n",
       "      <td>0</td>\n",
       "      <td>2016-04-29</td>\n",
       "      <td>2016-04-29</td>\n",
       "      <td>62</td>\n",
       "      <td>MATA DA PRAIA</td>\n",
       "      <td>0</td>\n",
       "      <td>0</td>\n",
       "      <td>0</td>\n",
       "      <td>0</td>\n",
       "      <td>0</td>\n",
       "      <td>0</td>\n",
       "      <td>1</td>\n",
       "      <td>16</td>\n",
       "      <td>Friday</td>\n",
       "      <td>0</td>\n",
       "    </tr>\n",
       "    <tr>\n",
       "      <th>3</th>\n",
       "      <td>867951213174</td>\n",
       "      <td>5642828</td>\n",
       "      <td>0</td>\n",
       "      <td>2016-04-29</td>\n",
       "      <td>2016-04-29</td>\n",
       "      <td>8</td>\n",
       "      <td>PONTAL DE CAMBURI</td>\n",
       "      <td>0</td>\n",
       "      <td>0</td>\n",
       "      <td>0</td>\n",
       "      <td>0</td>\n",
       "      <td>0</td>\n",
       "      <td>0</td>\n",
       "      <td>1</td>\n",
       "      <td>17</td>\n",
       "      <td>Friday</td>\n",
       "      <td>0</td>\n",
       "    </tr>\n",
       "    <tr>\n",
       "      <th>4</th>\n",
       "      <td>8841186448183</td>\n",
       "      <td>5642494</td>\n",
       "      <td>0</td>\n",
       "      <td>2016-04-29</td>\n",
       "      <td>2016-04-29</td>\n",
       "      <td>56</td>\n",
       "      <td>JARDIM DA PENHA</td>\n",
       "      <td>0</td>\n",
       "      <td>1</td>\n",
       "      <td>1</td>\n",
       "      <td>0</td>\n",
       "      <td>0</td>\n",
       "      <td>0</td>\n",
       "      <td>1</td>\n",
       "      <td>16</td>\n",
       "      <td>Friday</td>\n",
       "      <td>0</td>\n",
       "    </tr>\n",
       "  </tbody>\n",
       "</table>\n",
       "</div>"
      ],
      "text/plain": [
       "         PatientID AppointmentID  Gender ScheduledDay AppointmentDay  Age  \\\n",
       "0   29872499824296       5642903       0   2016-04-29     2016-04-29   62   \n",
       "1  558997776694438       5642503       1   2016-04-29     2016-04-29   56   \n",
       "2    4262962299951       5642549       0   2016-04-29     2016-04-29   62   \n",
       "3     867951213174       5642828       0   2016-04-29     2016-04-29    8   \n",
       "4    8841186448183       5642494       0   2016-04-29     2016-04-29   56   \n",
       "\n",
       "       Neighbourhood  Scholarship  Hypertension  Diabetes  Alcoholism  \\\n",
       "0    JARDIM DA PENHA            0             1         0           0   \n",
       "1    JARDIM DA PENHA            0             0         0           0   \n",
       "2      MATA DA PRAIA            0             0         0           0   \n",
       "3  PONTAL DE CAMBURI            0             0         0           0   \n",
       "4    JARDIM DA PENHA            0             1         1           0   \n",
       "\n",
       "   Handicap  SMS_received  Show  TimeScheduled WeekdayAppointment  WaitingTime  \n",
       "0         0             0     1             18             Friday            0  \n",
       "1         0             0     1             16             Friday            0  \n",
       "2         0             0     1             16             Friday            0  \n",
       "3         0             0     1             17             Friday            0  \n",
       "4         0             0     1             16             Friday            0  "
      ]
     },
     "execution_count": 13,
     "metadata": {},
     "output_type": "execute_result"
    }
   ],
   "source": [
    "# Create variable TimeScheduled\n",
    "data['TimeScheduled'] = data.ScheduledDay.dt.hour\n",
    "\n",
    "# Get day of the week \n",
    "data['WeekdayAppointment'] = data.AppointmentDay.dt.day_name()\n",
    "\n",
    "# Get difference in days \n",
    "data['WaitingTime'] = np.abs(data.AppointmentDay - data.ScheduledDay)\n",
    "data.WaitingTime = data.WaitingTime.dt.days\n",
    "\n",
    "# Convert ScheduledDay to date \n",
    "data.ScheduledDay = data.ScheduledDay.dt.date\n",
    "\n",
    "# Pring first rows \n",
    "data.head()"
   ]
  },
  {
   "cell_type": "markdown",
   "metadata": {},
   "source": [
    "## Exploratory Data Analysis\n",
    "In this section we provide a simple visualization of the dataset in order to study the dependent variable or target _Show_. First of all, we will study the distribution of the dependent variable as a function of  gender."
   ]
  },
  {
   "cell_type": "code",
   "execution_count": 15,
   "metadata": {},
   "outputs": [
    {
     "data": {
      "image/png": "[encoded data removed]",
      "text/plain": [
       "<Figure size 432x288 with 1 Axes>"
      ]
     },
     "metadata": {
      "needs_background": "light"
     },
     "output_type": "display_data"
    }
   ],
   "source": [
    "# Compute proportions\n",
    "def comp_prop(data, Var):\n",
    "    data_out = []\n",
    "    for lvl in np.unique(data[Var]):\n",
    "        lvl_dict = {'Var': Var}\n",
    "        L =  len(data[data[Var].eq(lvl)])\n",
    "        n_Show = len(data[data[Var].eq(lvl) & data.Show.eq(1)])\n",
    "        n_NoShow =len(data[data[Var].eq(lvl) & data.Show.eq(0)])\n",
    "        propShow, propNoShow = n_Show/L, n_NoShow/L\n",
    "        lvl_dict.update({'Level': lvl, \"PropShow\": propShow, \"PropNoShow\": propNoShow})\n",
    "        data_out.append(lvl_dict)\n",
    "    return pd.DataFrame(data_out)\n",
    "\n",
    "data_out = comp_prop(data, 'Gender')\n",
    "plt.figure()\n",
    "p2 = plt.bar(x = data_out.Level, height = data_out.PropNoShow)\n",
    "p1 = plt.bar(x = data_out.Level, height = data_out.PropShow, bottom=data_out.PropNoShow)\n",
    "plt.xlabel('Gender')\n",
    "plt.ylabel('Proportion')\n",
    "plt.title('Proportion of Show/NoShow by Gender')\n",
    "plt.xticks(data_out.Level, (\"Female\", \"Male\",))\n",
    "plt.legend((p1[0], p2[0]), ('NoShow', 'Show'))\n",
    "\n",
    "plt.show()\n"
   ]
  },
  {
   "cell_type": "markdown",
   "metadata": {},
   "source": [
    "_Gender_ does not seem to be a good indicator to discern whehter a patient will attent the appointment."
   ]
  },
  {
   "cell_type": "code",
   "execution_count": 17,
   "metadata": {},
   "outputs": [
    {
     "data": {
      "image/png": "[encoded data removed]",
      "text/plain": [
       "<Figure size 432x288 with 1 Axes>"
      ]
     },
     "metadata": {
      "needs_background": "light"
     },
     "output_type": "display_data"
    }
   ],
   "source": [
    "data_out = comp_prop(data, 'Handicap')\n",
    "plt.figure()\n",
    "p2 = plt.bar(x = data_out.Level, height = data_out.PropNoShow)\n",
    "p1 = plt.bar(x = data_out.Level, height = data_out.PropShow, bottom=data_out.PropNoShow)\n",
    "plt.xlabel('Handicap Level')\n",
    "plt.ylabel('Proportion')\n",
    "plt.title('Proportion of Show/NoShow by Handicap')\n",
    "plt.xticks(data_out.Level, np.unique(data.Handicap))\n",
    "plt.legend((p1[0], p2[0]), ('NoShow', 'Show'))\n",
    "\n",
    "plt.show()"
   ]
  },
  {
   "cell_type": "markdown",
   "metadata": {},
   "source": [
    "Contrarily to _Gender_, the level of _Handicap_ provides better information for differentiation (especially Level 4)."
   ]
  },
  {
   "cell_type": "code",
   "execution_count": 18,
   "metadata": {},
   "outputs": [
    {
     "data": {
      "image/png": "[encoded data removed]",
      "text/plain": [
       "<Figure size 432x288 with 1 Axes>"
      ]
     },
     "metadata": {
      "needs_background": "light"
     },
     "output_type": "display_data"
    }
   ],
   "source": [
    "data_out = comp_prop(data, 'Hypertension')\n",
    "plt.figure()\n",
    "p2 = plt.bar(x = data_out.Level, height = data_out.PropNoShow)\n",
    "p1 = plt.bar(x = data_out.Level, height = data_out.PropShow, bottom=data_out.PropNoShow)\n",
    "plt.xlabel('Hypertension Dx')\n",
    "plt.ylabel('Proportion')\n",
    "plt.title('Proportion of Show/NoShow by Hypertension')\n",
    "plt.xticks(data_out.Level, np.unique(data.Handicap))\n",
    "plt.legend((p1[0], p2[0]), ('NoShow', 'Show'))\n",
    "\n",
    "plt.show()"
   ]
  },
  {
   "cell_type": "markdown",
   "metadata": {},
   "source": [
    "Similarly to _Gender_, _Hypertension_ does not seem to provide sufficient information to differentiate the dependant variable."
   ]
  },
  {
   "cell_type": "code",
   "execution_count": 22,
   "metadata": {},
   "outputs": [
    {
     "data": {
      "text/plain": [
       "Text(0, 0.5, 'Proportion')"
      ]
     },
     "execution_count": 22,
     "metadata": {},
     "output_type": "execute_result"
    },
    {
     "data": {
      "image/png": "[encoded data removed]",
      "text/plain": [
       "<Figure size 432x288 with 1 Axes>"
      ]
     },
     "metadata": {
      "needs_background": "light"
     },
     "output_type": "display_data"
    }
   ],
   "source": [
    "data_out = comp_prop(data, 'Age')\n",
    "plt.figure()\n",
    "plt.scatter(data_out.Level, data_out.PropShow)\n",
    "trend = np.polyfit(data_out.Level, data_out.PropShow, 4)\n",
    "p = np.poly1d(trend)\n",
    "plt.plot(data_out.Level, p(data_out.Level), '-')\n",
    "plt.title('Proportion of attendance as a function of Age')\n",
    "plt.xlabel('Age')\n",
    "plt.ylabel('Proportion')"
   ]
  },
  {
   "cell_type": "code",
   "execution_count": 23,
   "metadata": {},
   "outputs": [
    {
     "data": {
      "text/plain": [
       "Text(0, 0.5, 'Probability')"
      ]
     },
     "execution_count": 23,
     "metadata": {},
     "output_type": "execute_result"
    },
    {
     "data": {
      "image/png": "[encoded data removed]",
      "text/plain": [
       "<Figure size 432x288 with 1 Axes>"
      ]
     },
     "metadata": {
      "needs_background": "light"
     },
     "output_type": "display_data"
    }
   ],
   "source": [
    "data_out = comp_prop(data, 'WaitingTime')\n",
    "plt.figure()\n",
    "plt.scatter(data_out.Level, data_out.PropShow)\n",
    "plt.title('Proportion of Attendance as a function of Waiting Time')\n",
    "plt.xlabel('Waiting Time')\n",
    "plt.ylabel('Probability')"
   ]
  },
  {
   "cell_type": "markdown",
   "metadata": {},
   "source": [
    "We conclude that variables such as _Gender_ alone do not contribute to our predictions about whether a patient will show up or not to the appointment. On the other hand, we perceive differences in the proportion of patients with a level of 4 in _Handicap_ with respect to the rest of the population. In addition, _Age_ seems to provide valuable information regarding the probability of attendance. Finally, we see that, as _WaitingTime_ increases, the probability of attendance scatters."
   ]
  },
  {
   "cell_type": "markdown",
   "metadata": {},
   "source": [
    "### Dataset Preparation\n",
    "We proceed to prepare the final dataset that we will use for the classification algorithm."
   ]
  },
  {
   "cell_type": "code",
   "execution_count": 36,
   "metadata": {},
   "outputs": [
    {
     "data": {
      "text/plain": [
       "Gender                         int64\n",
       "ScheduledDay                  object\n",
       "AppointmentDay        datetime64[ns]\n",
       "Age                            int64\n",
       "Scholarship                    int64\n",
       "Hypertension                   int64\n",
       "Diabetes                       int64\n",
       "Alcoholism                     int64\n",
       "Handicap                       int64\n",
       "SMS_received                   int64\n",
       "Show                           int64\n",
       "TimeScheduled                  int64\n",
       "Neighbourhood                 object\n",
       "WeekdayAppointment            object\n",
       "WaitingTime                    int64\n",
       "dtype: object"
      ]
     },
     "execution_count": 36,
     "metadata": {},
     "output_type": "execute_result"
    }
   ],
   "source": [
    "# Dataset preparation \n",
    "data_prep = data[['Gender', 'ScheduledDay',\n",
    "                  'AppointmentDay', 'Age', \n",
    "                  'Scholarship', 'Hypertension',\n",
    "                  'Diabetes', 'Alcoholism', \n",
    "                  'Handicap','SMS_received', 'Show',\n",
    "                  'TimeScheduled','Neighbourhood', \n",
    "                  'WeekdayAppointment','WaitingTime']]\n",
    "\n",
    "# Data types \n",
    "data_prep.dtypes"
   ]
  },
  {
   "cell_type": "markdown",
   "metadata": {},
   "source": [
    "We will perform the **Hashing-Trick** in order to compute numerical variables from the categorical variables so that they can be handled by the algorithm. We chose this method over One Hot Encoding because of the large number of categories in variable such as _Neighbourhood_ or _AppointmentDay_."
   ]
  },
  {
   "cell_type": "code",
   "execution_count": 37,
   "metadata": {},
   "outputs": [
    {
     "data": {
      "text/html": [
       "<div>\n",
       "<style scoped>\n",
       "    .dataframe tbody tr th:only-of-type {\n",
       "        vertical-align: middle;\n",
       "    }\n",
       "\n",
       "    .dataframe tbody tr th {\n",
       "        vertical-align: top;\n",
       "    }\n",
       "\n",
       "    .dataframe thead th {\n",
       "        text-align: right;\n",
       "    }\n",
       "</style>\n",
       "<table border=\"1\" class=\"dataframe\">\n",
       "  <thead>\n",
       "    <tr style=\"text-align: right;\">\n",
       "      <th></th>\n",
       "      <th>Gender</th>\n",
       "      <th>Age</th>\n",
       "      <th>Scholarship</th>\n",
       "      <th>Hypertension</th>\n",
       "      <th>Diabetes</th>\n",
       "      <th>Alcoholism</th>\n",
       "      <th>Handicap</th>\n",
       "      <th>SMS_received</th>\n",
       "      <th>TimeScheduled</th>\n",
       "      <th>WaitingTime</th>\n",
       "      <th>...</th>\n",
       "      <th>Weekday_2</th>\n",
       "      <th>ScheduledDay_1</th>\n",
       "      <th>ScheduledDay_2</th>\n",
       "      <th>ScheduledDay_3</th>\n",
       "      <th>AppointmentdDay_1</th>\n",
       "      <th>AppointmentdDay_2</th>\n",
       "      <th>AppointmentdDay_3</th>\n",
       "      <th>PatientID_1</th>\n",
       "      <th>PatientID_2</th>\n",
       "      <th>PatientID_3</th>\n",
       "    </tr>\n",
       "  </thead>\n",
       "  <tbody>\n",
       "    <tr>\n",
       "      <th>0</th>\n",
       "      <td>0</td>\n",
       "      <td>62</td>\n",
       "      <td>0</td>\n",
       "      <td>1</td>\n",
       "      <td>0</td>\n",
       "      <td>0</td>\n",
       "      <td>0</td>\n",
       "      <td>0</td>\n",
       "      <td>18</td>\n",
       "      <td>0</td>\n",
       "      <td>...</td>\n",
       "      <td>1.0</td>\n",
       "      <td>2.0</td>\n",
       "      <td>-5.0</td>\n",
       "      <td>1.0</td>\n",
       "      <td>2.0</td>\n",
       "      <td>-5.0</td>\n",
       "      <td>1.0</td>\n",
       "      <td>2.0</td>\n",
       "      <td>0.0</td>\n",
       "      <td>4.0</td>\n",
       "    </tr>\n",
       "    <tr>\n",
       "      <th>1</th>\n",
       "      <td>1</td>\n",
       "      <td>56</td>\n",
       "      <td>0</td>\n",
       "      <td>0</td>\n",
       "      <td>0</td>\n",
       "      <td>0</td>\n",
       "      <td>0</td>\n",
       "      <td>0</td>\n",
       "      <td>16</td>\n",
       "      <td>0</td>\n",
       "      <td>...</td>\n",
       "      <td>1.0</td>\n",
       "      <td>2.0</td>\n",
       "      <td>-5.0</td>\n",
       "      <td>1.0</td>\n",
       "      <td>2.0</td>\n",
       "      <td>-5.0</td>\n",
       "      <td>1.0</td>\n",
       "      <td>1.0</td>\n",
       "      <td>0.0</td>\n",
       "      <td>6.0</td>\n",
       "    </tr>\n",
       "    <tr>\n",
       "      <th>2</th>\n",
       "      <td>0</td>\n",
       "      <td>62</td>\n",
       "      <td>0</td>\n",
       "      <td>0</td>\n",
       "      <td>0</td>\n",
       "      <td>0</td>\n",
       "      <td>0</td>\n",
       "      <td>0</td>\n",
       "      <td>16</td>\n",
       "      <td>0</td>\n",
       "      <td>...</td>\n",
       "      <td>1.0</td>\n",
       "      <td>2.0</td>\n",
       "      <td>-5.0</td>\n",
       "      <td>1.0</td>\n",
       "      <td>2.0</td>\n",
       "      <td>-5.0</td>\n",
       "      <td>1.0</td>\n",
       "      <td>5.0</td>\n",
       "      <td>-1.0</td>\n",
       "      <td>5.0</td>\n",
       "    </tr>\n",
       "    <tr>\n",
       "      <th>3</th>\n",
       "      <td>0</td>\n",
       "      <td>8</td>\n",
       "      <td>0</td>\n",
       "      <td>0</td>\n",
       "      <td>0</td>\n",
       "      <td>0</td>\n",
       "      <td>0</td>\n",
       "      <td>0</td>\n",
       "      <td>17</td>\n",
       "      <td>0</td>\n",
       "      <td>...</td>\n",
       "      <td>1.0</td>\n",
       "      <td>2.0</td>\n",
       "      <td>-5.0</td>\n",
       "      <td>1.0</td>\n",
       "      <td>2.0</td>\n",
       "      <td>-5.0</td>\n",
       "      <td>1.0</td>\n",
       "      <td>2.0</td>\n",
       "      <td>-3.0</td>\n",
       "      <td>3.0</td>\n",
       "    </tr>\n",
       "    <tr>\n",
       "      <th>4</th>\n",
       "      <td>0</td>\n",
       "      <td>56</td>\n",
       "      <td>0</td>\n",
       "      <td>1</td>\n",
       "      <td>1</td>\n",
       "      <td>0</td>\n",
       "      <td>0</td>\n",
       "      <td>0</td>\n",
       "      <td>16</td>\n",
       "      <td>0</td>\n",
       "      <td>...</td>\n",
       "      <td>1.0</td>\n",
       "      <td>2.0</td>\n",
       "      <td>-5.0</td>\n",
       "      <td>1.0</td>\n",
       "      <td>2.0</td>\n",
       "      <td>-5.0</td>\n",
       "      <td>1.0</td>\n",
       "      <td>-4.0</td>\n",
       "      <td>-3.0</td>\n",
       "      <td>-2.0</td>\n",
       "    </tr>\n",
       "  </tbody>\n",
       "</table>\n",
       "<p>5 rows × 32 columns</p>\n",
       "</div>"
      ],
      "text/plain": [
       "   Gender  Age  Scholarship  Hypertension  Diabetes  Alcoholism  Handicap  \\\n",
       "0       0   62            0             1         0           0         0   \n",
       "1       1   56            0             0         0           0         0   \n",
       "2       0   62            0             0         0           0         0   \n",
       "3       0    8            0             0         0           0         0   \n",
       "4       0   56            0             1         1           0         0   \n",
       "\n",
       "   SMS_received  TimeScheduled  WaitingTime  ...  Weekday_2  ScheduledDay_1  \\\n",
       "0             0             18            0  ...        1.0             2.0   \n",
       "1             0             16            0  ...        1.0             2.0   \n",
       "2             0             16            0  ...        1.0             2.0   \n",
       "3             0             17            0  ...        1.0             2.0   \n",
       "4             0             16            0  ...        1.0             2.0   \n",
       "\n",
       "   ScheduledDay_2  ScheduledDay_3  AppointmentdDay_1  AppointmentdDay_2  \\\n",
       "0            -5.0             1.0                2.0               -5.0   \n",
       "1            -5.0             1.0                2.0               -5.0   \n",
       "2            -5.0             1.0                2.0               -5.0   \n",
       "3            -5.0             1.0                2.0               -5.0   \n",
       "4            -5.0             1.0                2.0               -5.0   \n",
       "\n",
       "   AppointmentdDay_3  PatientID_1  PatientID_2  PatientID_3  \n",
       "0                1.0          2.0          0.0          4.0  \n",
       "1                1.0          1.0          0.0          6.0  \n",
       "2                1.0          5.0         -1.0          5.0  \n",
       "3                1.0          2.0         -3.0          3.0  \n",
       "4                1.0         -4.0         -3.0         -2.0  \n",
       "\n",
       "[5 rows x 32 columns]"
      ]
     },
     "execution_count": 37,
     "metadata": {},
     "output_type": "execute_result"
    }
   ],
   "source": [
    "# Hashing trick on Neighbourhood\n",
    "nF = 10\n",
    "FH = FeatureHasher(n_features = nF, input_type = \"string\")\n",
    "featsNeigh = FH.fit_transform(data_prep.Neighbourhood.astype('str'))\n",
    "featsNeigh = pd.DataFrame(data = featsNeigh.toarray(), columns = [\"Neigh_\" + str(i) for i in range(1, nF+1)])\n",
    "\n",
    "# Hashing trick on Weekday\n",
    "nF = 2\n",
    "FH = FeatureHasher(n_features = nF, input_type = \"string\")\n",
    "fWD = FH.fit_transform(data_prep.WeekdayAppointment.astype('str'))\n",
    "fWD = pd.DataFrame(data = fWD.toarray(), columns = [\"Weekday_\" + str(i) for i in range(1, nF+1)])\n",
    "\n",
    "# Hashing trick on ScheduledDay\n",
    "nF = 3\n",
    "FH = FeatureHasher(n_features = nF, input_type = \"string\")\n",
    "fSD = FH.fit_transform(data_prep.ScheduledDay.astype('str'))\n",
    "fSD = pd.DataFrame(data = fSD.toarray(), columns = [\"ScheduledDay_\" + str(i) for i in range(1, nF+1)])\n",
    "\n",
    "# Hashing trick on AppointmentDay\n",
    "nF = 3\n",
    "FH = FeatureHasher(n_features = nF, input_type = \"string\")\n",
    "fAD = FH.fit_transform(data_prep.AppointmentDay.astype('str'))\n",
    "fAD = pd.DataFrame(data = fAD.toarray(), columns = [\"AppointmentdDay_\" + str(i) for i in range(1, nF+1)])\n",
    "\n",
    "# Merge to dataframe \n",
    "data_final = data_prep[['Gender', 'Age', 'Scholarship', 'Hypertension', 'Diabetes', 'Alcoholism', 'Handicap', 'SMS_received','TimeScheduled','WaitingTime', 'Show']]\n",
    "data_final = pd.concat([data_final.reset_index(drop = True), featsNeigh, fWD, fSD, fAD, fPID], axis=1)\n",
    "\n",
    "# Show\n",
    "data_final.head()"
   ]
  },
  {
   "cell_type": "markdown",
   "metadata": {},
   "source": [
    "# Classification \n",
    "As previously mentioned, there is a significant imbalance of the dependent variable in the dataset - 80% to 20%. For this reason, we will study the classification both in an imbalanced and a balanced dataset.\n",
    "\n",
    "## Imbalanced"
   ]
  },
  {
   "cell_type": "code",
   "execution_count": 38,
   "metadata": {},
   "outputs": [],
   "source": [
    "# Unbalanced data\n",
    "X, y = data_final.drop(columns = \"Show\"), data_final.Show\n",
    "X_train, X_test, y_train, y_test = train_test_split(X, y, test_size = 0.3)\n"
   ]
  },
  {
   "cell_type": "markdown",
   "metadata": {},
   "source": [
    "### Random forest\n",
    "Random forest is a simple, fast, ensemble method. This method over a decision tree will reduce bias through a voting dynamic. "
   ]
  },
  {
   "cell_type": "code",
   "execution_count": 39,
   "metadata": {},
   "outputs": [
    {
     "name": "stdout",
     "output_type": "stream",
     "text": [
      "Training Accuracy: 94.83050737852274%\n",
      "Training Precision: 93.92561732149373%\n",
      "Area under ROC curve: 0.8714776362053032\n",
      "Trainin Accuracy: 80.45689108851133%\n",
      "Trainin Precision: 80.62421127150728%\n",
      "Area under ROC curve: 0.5310999241650091\n"
     ]
    }
   ],
   "source": [
    "# Create classifier\n",
    "classifier = RandomForestClassifier(n_estimators = 300,\n",
    "    criterion = \"gini\",\n",
    "    max_depth = 20, \n",
    "    min_samples_split = 2,\n",
    "    min_samples_leaf = 1, \n",
    "    min_weight_fraction_leaf = 0, \n",
    "    bootstrap = True, \n",
    "    random_state = None, \n",
    "    verbose = 0, \n",
    ")\n",
    "\n",
    "# Fit classifier\n",
    "classifier.fit(X_train, y_train)\n",
    "\n",
    "# Calculate train accuracy, precision and AUC \n",
    "y_pred_train = classifier.predict(X_train)\n",
    "acc_train, prec_train = accuracy_score(y_train, y_pred_train), precision_score(y_train, y_pred_train)\n",
    "fpr_train, tpr_train, thr_train = roc_curve(y_train, y_pred_train)\n",
    "auc_train = auc(fpr_train, tpr_train)\n",
    "\n",
    "# Print \n",
    "print(\"Training Accuracy: \" + str(acc_train*100) + '%')\n",
    "print(\"Training Precision: \" + str(prec_train*100) + '%')\n",
    "print(\"Area under ROC curve: \" + str(auc_train))\n",
    "\n",
    "# Test classifier \n",
    "y_pred_test = classifier.predict(X_test)\n",
    "acc_test, prec_test = accuracy_score(y_test, y_pred_test), precision_score(y_test, y_pred_test)\n",
    "fpr_test, tpr_test, thr_test = roc_curve(y_test, y_pred_test)\n",
    "auc_test = auc(fpr_test, tpr_test)\n",
    "\n",
    "print(\"Trainin Accuracy: \" + str(acc_test*100) + '%')\n",
    "print(\"Trainin Precision: \" + str(prec_test*100) + '%')\n",
    "print(\"Area under ROC curve: \" + str(auc_test))\n"
   ]
  },
  {
   "cell_type": "markdown",
   "metadata": {},
   "source": [
    "As expected, the algorithm is heavily influenced by the proportion of the dependent variable. In fact, it classifies mostly every patient as a positive attendance, therefore outputing an accuracy of ~80%. It fails to correctly classify those who did not attend."
   ]
  },
  {
   "cell_type": "markdown",
   "metadata": {},
   "source": [
    "### Gradient Boosting Classifier"
   ]
  },
  {
   "cell_type": "markdown",
   "metadata": {},
   "source": [
    "To prevent some of the bias from happening, we perform a gradient boosting classifier, which will sequentially ensemble each decision tree."
   ]
  },
  {
   "cell_type": "code",
   "execution_count": 40,
   "metadata": {},
   "outputs": [
    {
     "name": "stdout",
     "output_type": "stream",
     "text": [
      "      Iter       Train Loss   Remaining Time \n",
      "         1           0.9743            7.03m\n",
      "         2           0.9502            7.06m\n",
      "         3           0.9292            7.11m\n",
      "         4           0.9111            7.19m\n",
      "         5           0.8950            7.21m\n",
      "         6           0.8815            7.18m\n",
      "         7           0.8689            7.14m\n",
      "         8           0.8576            7.09m\n",
      "         9           0.8472            7.06m\n",
      "        10           0.8376            7.04m\n",
      "        20           0.7664            6.79m\n",
      "        30           0.7236            6.25m\n",
      "        40           0.6951            5.68m\n",
      "        50           0.6722            5.18m\n",
      "        60           0.6564            4.67m\n",
      "        70           0.6306            4.41m\n",
      "        80           0.6081            4.20m\n",
      "        90           0.5817            4.00m\n",
      "       100           0.5614            3.77m\n",
      "       200           0.3772            1.94m\n",
      "       300           0.2348            0.00s\n",
      "Training Accuracy: 98.32512060424993%\n",
      "Training Precision: 97.97563142530778%\n",
      "Area under ROC curve: 0.9588014399874363\n",
      "Test Accuracy: 79.64209192141715%\n",
      "Test Precision: 82.11235808003141%\n",
      "Area under ROC curve: 0.5715092480841502\n"
     ]
    }
   ],
   "source": [
    "# Create classifier\n",
    "classifier = GradientBoostingClassifier(loss='deviance',\n",
    "    learning_rate=0.1,\n",
    "    n_estimators=300,\n",
    "    subsample=1.0,\n",
    "    criterion='friedman_mse',\n",
    "    min_samples_split=2,\n",
    "    min_samples_leaf=1,\n",
    "    min_weight_fraction_leaf=0,\n",
    "    max_depth=10,\n",
    "    min_impurity_decrease=0,\n",
    "    min_impurity_split=None,\n",
    "    init=None,\n",
    "    random_state=None, \n",
    "    verbose=1)\n",
    "\n",
    "# Fit classifier\n",
    "classifier.fit(X_train, y_train)\n",
    "\n",
    "# Calculate train accuracy, precision and AUC \n",
    "y_pred_train = classifier.predict(X_train)\n",
    "acc_train, prec_train = accuracy_score(y_train, y_pred_train), precision_score(y_train, y_pred_train)\n",
    "fpr_train, tpr_train, thr_train = roc_curve(y_train, y_pred_train)\n",
    "auc_train = auc(fpr_train, tpr_train)\n",
    "\n",
    "# Print \n",
    "print(\"Training Accuracy: \" + str(acc_train*100) + '%')\n",
    "print(\"Training Precision: \" + str(prec_train*100) + '%')\n",
    "print(\"Area under ROC curve: \" + str(auc_train))\n",
    "\n",
    "# Test classifier \n",
    "y_pred_test = classifier.predict(X_test)\n",
    "acc_test, prec_test = accuracy_score(y_test, y_pred_test), precision_score(y_test, y_pred_test)\n",
    "fpr_test, tpr_test, thr_test = roc_curve(y_test, y_pred_test)\n",
    "auc_test = auc(fpr_test, tpr_test)\n",
    "\n",
    "print(\"Test Accuracy: \" + str(acc_test*100) + '%')\n",
    "print(\"Test Precision: \" + str(prec_test*100) + '%')\n",
    "print(\"Area under ROC curve: \" + str(auc_test))\n"
   ]
  },
  {
   "cell_type": "markdown",
   "metadata": {},
   "source": [
    "Similarly, the training accuracy shows that this model provides a better prediction with already-seen data points, and has a test accuracy slightly superior to random chance. However, the predictions are still significantly biased by the dataset."
   ]
  },
  {
   "cell_type": "markdown",
   "metadata": {},
   "source": [
    "## Balanced dataset\n",
    "We will balance the dataset in order to have a better idea of how well a model will perform if given a equal proportion of dependent variables. To do that, we randomly sample the maximum number of observations given the limitation of the dependent variable. "
   ]
  },
  {
   "cell_type": "code",
   "execution_count": 68,
   "metadata": {},
   "outputs": [],
   "source": [
    "# Initialize loop\n",
    "acc_train, acc_test = [], []\n",
    "prec_train, prec_test = [], []\n",
    "auc_train, auc_test = [], []\n",
    "\n",
    "# Iteration\n",
    "for i in range(10):\n",
    "    \n",
    "    # Separate \n",
    "    Show_data = data_final[data_final.Show == 1]\n",
    "    NoShow_data = data_final[data_final.Show == 0]\n",
    "\n",
    "    # Get min obs\n",
    "    min_rows = min([len(Show_data), len(NoShow_data)])\n",
    "\n",
    "    # Sample and get min \n",
    "    Show_data = Show_data.sample(frac= min_rows/(len(Show_data)))    \n",
    "    NoShow_data = NoShow_data.sample(frac= min_rows/(len(NoShow_data)))    \n",
    "\n",
    "    # Merge \n",
    "    data_preSplit =pd.concat([Show_data, NoShow_data], axis = 0)\n",
    "    data_preSplit = data_preSplit.sample(frac = 1)\n",
    "\n",
    "    # Split\n",
    "    X, y = data_preSplit.drop(columns = \"Show\"), data_preSplit.Show\n",
    "    X_train, X_test, y_train, y_test = train_test_split(X, y, test_size = 0.1)\n",
    "    \n",
    "    # Create classifier\n",
    "    classifier = RandomForestClassifier(n_estimators = 300,\n",
    "        criterion = \"gini\",\n",
    "        max_depth = 20, \n",
    "        min_samples_split = 2,\n",
    "        min_samples_leaf = 1, \n",
    "        min_weight_fraction_leaf = 0, \n",
    "        bootstrap = True, \n",
    "        random_state = None, \n",
    "        verbose = 0, \n",
    "    )\n",
    "\n",
    "    # Fit classifier\n",
    "    classifier.fit(X_train, y_train)\n",
    "\n",
    "    # Calculate train accuracy, precision and AUC \n",
    "    y_pred_train = classifier.predict(X_train)\n",
    "    acc, prec = accuracy_score(y_train, y_pred_train), precision_score(y_train, y_pred_train)\n",
    "    fpr_train, tpr_train, thr_train = roc_curve(y_train, y_pred_train)\n",
    "    auc_val = auc(fpr_train, tpr_train)\n",
    "    \n",
    "    # Append to vectors\n",
    "    acc_train.append(acc) \n",
    "    prec_train.append(prec) \n",
    "    auc_train.append(auc_val) \n",
    "\n",
    "    # Test classifier \n",
    "    y_pred_test = classifier.predict(X_test)\n",
    "    acc, prec = accuracy_score(y_test, y_pred_test), precision_score(y_test, y_pred_test)\n",
    "    fpr_test, tpr_test, thr_test = roc_curve(y_test, y_pred_test)\n",
    "    auc_val = auc(fpr_test, tpr_test)\n",
    "\n",
    "    # Append to vectors\n",
    "    acc_test.append(acc) \n",
    "    prec_test.append(prec) \n",
    "    auc_test.append(auc_val) \n",
    "\n"
   ]
  },
  {
   "cell_type": "code",
   "execution_count": 69,
   "metadata": {},
   "outputs": [
    {
     "name": "stdout",
     "output_type": "stream",
     "text": [
      "Mean training accuracy: 96.41% +- 0.07%\n",
      "Mean training precision: 97.40% +- 0.10%\n",
      "Mean area under ROC curve training: 0.96 +- 0.00\n",
      "\n",
      "\n",
      "Mean test accuracy: 68.22% +- 0.65%\n",
      "Mean test precision: 72.73% +- 0.83%\n",
      "Mean area under ROC curve test: 0.68 +- 0.01\n"
     ]
    }
   ],
   "source": [
    "    \n",
    "# Print \n",
    "print('Mean training accuracy: {:.2f}% +- {:.2f}%'.format((np.mean(acc_train)*100), (np.std(acc_train))*100))\n",
    "print('Mean training precision: {:.2f}% +- {:.2f}%'.format((np.mean(prec_train)*100), (np.std(prec_train))*100))\n",
    "print('Mean area under ROC curve training: {:.2f} +- {:.2f}'.format((np.mean(auc_train)),\n",
    "                                                                      (np.std(auc_train))))\n",
    "print('\\n')\n",
    "print('Mean test accuracy: {:.2f}% +- {:.2f}%'.format((np.mean(acc_test)*100), (np.std(acc_test))*100))\n",
    "print('Mean test precision: {:.2f}% +- {:.2f}%'.format((np.mean(prec_test)*100), (np.std(prec_test))*100))\n",
    "print('Mean area under ROC curve test: {:.2f} +- {:.2f}'.format((np.mean(auc_test)),\n",
    "                                                                      (np.std(auc_test))))\n"
   ]
  },
  {
   "cell_type": "markdown",
   "metadata": {},
   "source": [
    "## Gradient Boosting Classifier"
   ]
  },
  {
   "cell_type": "code",
   "execution_count": 157,
   "metadata": {},
   "outputs": [],
   "source": [
    "# Initialize loop\n",
    "acc_train, acc_test = [], []\n",
    "prec_train, prec_test = [], []\n",
    "auc_train, auc_test = [], []\n",
    "\n",
    "# Iteration\n",
    "for i in range(10):\n",
    "    \n",
    "    # Separate \n",
    "    Show_data = data_final[data_final.Show == 1]\n",
    "    NoShow_data = data_final[data_final.Show == 0]\n",
    "\n",
    "    # Get min obs\n",
    "    min_rows = min([len(Show_data), len(NoShow_data)])\n",
    "\n",
    "    # Sample and get min \n",
    "    Show_data = Show_data.sample(frac= min_rows/(len(Show_data)))    \n",
    "    NoShow_data = NoShow_data.sample(frac= min_rows/(len(NoShow_data)))    \n",
    "\n",
    "    # Merge \n",
    "    data_preSplit =pd.concat([Show_data, NoShow_data], axis = 0)\n",
    "    data_preSplit = data_preSplit.sample(frac = 1)\n",
    "\n",
    "    # Split\n",
    "    X, y = data_preSplit.drop(columns = \"Show\"), data_preSplit.Show\n",
    "    X_train, X_test, y_train, y_test = train_test_split(X, y, test_size = 0.1)\n",
    "    \n",
    "    # Create classifier\n",
    "    classifier = GradientBoostingClassifier(loss='deviance',\n",
    "        learning_rate=0.1,\n",
    "        n_estimators=300,\n",
    "        subsample=1.0,\n",
    "        criterion='friedman_mse',\n",
    "        min_samples_split=2,\n",
    "        min_samples_leaf=1,\n",
    "        min_weight_fraction_leaf=0,\n",
    "        max_depth=10,\n",
    "        min_impurity_decrease=0,\n",
    "        min_impurity_split=None,\n",
    "        init=None,\n",
    "        random_state=None, \n",
    "        verbose=0)\n",
    "\n",
    "    # Fit classifier\n",
    "    classifier.fit(X_train, y_train)\n",
    "\n",
    "    # Calculate train accuracy, precision and AUC \n",
    "    y_pred_train = classifier.predict(X_train)\n",
    "    acc, prec = accuracy_score(y_train, y_pred_train), precision_score(y_train, y_pred_train)\n",
    "    fpr_train, tpr_train, thr_train = roc_curve(y_train, y_pred_train)\n",
    "    auc_val = auc(fpr_train, tpr_train)\n",
    "    \n",
    "    # Append to vectors\n",
    "    acc_train.append(acc) \n",
    "    prec_train.append(prec) \n",
    "    auc_train.append(auc_val) \n",
    "\n",
    "    # Test classifier \n",
    "    y_pred_test = classifier.predict(X_test)\n",
    "    acc, prec = accuracy_score(y_test, y_pred_test), precision_score(y_test, y_pred_test)\n",
    "    fpr_test, tpr_test, thr_test = roc_curve(y_test, y_pred_test)\n",
    "    auc_val = auc(fpr_test, tpr_test)\n",
    "\n",
    "    # Append to vectors\n",
    "    acc_test.append(acc) \n",
    "    prec_test.append(prec) \n",
    "    auc_test.append(auc_val) \n",
    "\n"
   ]
  },
  {
   "cell_type": "code",
   "execution_count": 158,
   "metadata": {},
   "outputs": [
    {
     "name": "stdout",
     "output_type": "stream",
     "text": [
      "Mean training accuracy: 98.55% +- 0.19%\n",
      "Mean training precision: 99.27% +- 0.15%\n",
      "Mean area under ROC curve training: 0.99 +- 0.00\n",
      "\n",
      "\n",
      "Mean test accuracy: 68.60% +- 0.67%\n",
      "Mean test precision: 71.07% +- 1.21%\n",
      "Mean area under ROC curve test: 0.69 +- 0.01\n"
     ]
    }
   ],
   "source": [
    "    \n",
    "# Print \n",
    "print('Mean training accuracy: {:.2f}% +- {:.2f}%'.format((np.mean(acc_train)*100), (np.std(acc_train))*100))\n",
    "print('Mean training precision: {:.2f}% +- {:.2f}%'.format((np.mean(prec_train)*100), (np.std(prec_train))*100))\n",
    "print('Mean area under ROC curve training: {:.2f} +- {:.2f}'.format((np.mean(auc_train)),\n",
    "                                                                      (np.std(auc_train))))\n",
    "print('\\n')\n",
    "print('Mean test accuracy: {:.2f}% +- {:.2f}%'.format((np.mean(acc_test)*100), (np.std(acc_test))*100))\n",
    "print('Mean test precision: {:.2f}% +- {:.2f}%'.format((np.mean(prec_test)*100), (np.std(prec_test))*100))\n",
    "print('Mean area under ROC curve test: {:.2f} +- {:.2f}'.format((np.mean(auc_test)),\n",
    "                                                                      (np.std(auc_test))))\n"
   ]
  },
  {
   "cell_type": "markdown",
   "metadata": {},
   "source": [
    "# Conclusions\n",
    "\n",
    "We constructed two classification models for both an imbalanced and a balanced dataset. The former, are uncapable of predicting accuractly the subjects that are not attending the appointment. The latter, despite an improvement in accuracy with respet to random sampling, do not represent the reality of attendance - that is, that 80% of patients will show up to their appointments. However, both systems were capable of fitting the training data succesfully, which intuitively may means that testing accuracies can be improved. \n",
    "\n",
    "Due to time restrictions and for future analysis, the following considerations should be taken into account:\n",
    "- The **_PatientID_** has not been included as part of the analysis. It is particularly interesting to include the _PatientID_ as part of the analysis since it will allow to account for individual tendencies, will adds a more minute level of granularity and will be subject-specific.\n",
    "- Both **ensemble methods** are based on decision trees. It will be interesting to explore other methods that can accound for, for instance, the 4th order relationship between _Age_ and the probability of attending the meeting. \n",
    "- The **data** has not been explored in depth. Additionaly, little is known about interaction between variables. From a management perspective, it would be interesting to know which variables maximize the likelihood of attendance in order to tackle patients that have higher priority and ensure that they do not fail to meet their doctors.\n",
    "- hypothetically, **other variables** not included in tha data could be better predictors - that is, assuming that more data can be collected. For instance, ethnicity or level of income. \n",
    "- The principal problem that hinders the classification is the **imbalanced dataset**. Several strategies may be considered in order to counterbalance this issue: using othe metrics (confusion matrices, regall, F1), using penalized models, or tackling the problem with anomaly detection instead of classification.\n",
    "\n",
    "\n"
   ]
  }
 ],
 "metadata": {
  "kernelspec": {
   "display_name": "Python 3.6.8 64-bit ('pytorch': conda)",
   "language": "python",
   "name": "python36864bitpytorchcondace8ce73cad7443ae8db36c92bb71cfc8"
  },
  "language_info": {
   "codemirror_mode": {
    "name": "ipython",
    "version": 3
   },
   "file_extension": ".py",
   "mimetype": "text/x-python",
   "name": "python",
   "nbconvert_exporter": "python",
   "pygments_lexer": "ipython3",
   "version": "3.6.8"
  }
 },
 "nbformat": 4,
 "nbformat_minor": 2
}
